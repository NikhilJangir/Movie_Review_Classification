{
 "cells": [
  {
   "cell_type": "markdown",
   "id": "f4a87f1d",
   "metadata": {},
   "source": [
    "## Load Dataset-"
   ]
  },
  {
   "cell_type": "code",
   "execution_count": 3,
   "id": "3039be22",
   "metadata": {},
   "outputs": [],
   "source": [
    "import pandas as pd"
   ]
  },
  {
   "cell_type": "code",
   "execution_count": 4,
   "id": "dc8de192",
   "metadata": {},
   "outputs": [],
   "source": [
    "data = pd.read_csv(\"IMDB Dataset.csv\")"
   ]
  },
  {
   "cell_type": "code",
   "execution_count": 5,
   "id": "f03a5d8c",
   "metadata": {},
   "outputs": [
    {
     "data": {
      "text/html": [
       "<div>\n",
       "<style scoped>\n",
       "    .dataframe tbody tr th:only-of-type {\n",
       "        vertical-align: middle;\n",
       "    }\n",
       "\n",
       "    .dataframe tbody tr th {\n",
       "        vertical-align: top;\n",
       "    }\n",
       "\n",
       "    .dataframe thead th {\n",
       "        text-align: right;\n",
       "    }\n",
       "</style>\n",
       "<table border=\"1\" class=\"dataframe\">\n",
       "  <thead>\n",
       "    <tr style=\"text-align: right;\">\n",
       "      <th></th>\n",
       "      <th>review</th>\n",
       "      <th>sentiment</th>\n",
       "    </tr>\n",
       "  </thead>\n",
       "  <tbody>\n",
       "    <tr>\n",
       "      <th>0</th>\n",
       "      <td>One of the other reviewers has mentioned that ...</td>\n",
       "      <td>positive</td>\n",
       "    </tr>\n",
       "    <tr>\n",
       "      <th>1</th>\n",
       "      <td>A wonderful little production. &lt;br /&gt;&lt;br /&gt;The...</td>\n",
       "      <td>positive</td>\n",
       "    </tr>\n",
       "    <tr>\n",
       "      <th>2</th>\n",
       "      <td>I thought this was a wonderful way to spend ti...</td>\n",
       "      <td>positive</td>\n",
       "    </tr>\n",
       "    <tr>\n",
       "      <th>3</th>\n",
       "      <td>Basically there's a family where a little boy ...</td>\n",
       "      <td>negative</td>\n",
       "    </tr>\n",
       "    <tr>\n",
       "      <th>4</th>\n",
       "      <td>Petter Mattei's \"Love in the Time of Money\" is...</td>\n",
       "      <td>positive</td>\n",
       "    </tr>\n",
       "  </tbody>\n",
       "</table>\n",
       "</div>"
      ],
      "text/plain": [
       "                                              review sentiment\n",
       "0  One of the other reviewers has mentioned that ...  positive\n",
       "1  A wonderful little production. <br /><br />The...  positive\n",
       "2  I thought this was a wonderful way to spend ti...  positive\n",
       "3  Basically there's a family where a little boy ...  negative\n",
       "4  Petter Mattei's \"Love in the Time of Money\" is...  positive"
      ]
     },
     "execution_count": 5,
     "metadata": {},
     "output_type": "execute_result"
    }
   ],
   "source": [
    "data.head()"
   ]
  },
  {
   "cell_type": "code",
   "execution_count": 6,
   "id": "f0891283",
   "metadata": {},
   "outputs": [],
   "source": [
    "X = data[\"review\"]\n",
    "Y = data[\"sentiment\"]"
   ]
  },
  {
   "cell_type": "markdown",
   "id": "4a759285",
   "metadata": {},
   "source": [
    "## Split the data into train and test dataset"
   ]
  },
  {
   "cell_type": "code",
   "execution_count": 7,
   "id": "6cc060cf",
   "metadata": {},
   "outputs": [],
   "source": [
    "from sklearn.model_selection import train_test_split"
   ]
  },
  {
   "cell_type": "code",
   "execution_count": 8,
   "id": "bbd27a14",
   "metadata": {},
   "outputs": [],
   "source": [
    "X_train, X_test, y_train, y_test = train_test_split(X,Y, test_size=0.33)"
   ]
  },
  {
   "cell_type": "code",
   "execution_count": 9,
   "id": "40ce9f97",
   "metadata": {},
   "outputs": [
    {
     "name": "stdout",
     "output_type": "stream",
     "text": [
      "(33500,) (16500,) (33500,) (16500,)\n"
     ]
    }
   ],
   "source": [
    "print(X_train.shape, X_test.shape, y_train.shape, y_test.shape)"
   ]
  },
  {
   "cell_type": "code",
   "execution_count": 10,
   "id": "56168274",
   "metadata": {},
   "outputs": [
    {
     "name": "stdout",
     "output_type": "stream",
     "text": [
      "32566    Well, this might be one of the funniest movies...\n",
      "37480    it's embarrassing I had like 3 minutes on my w...\n",
      "9610     I used to write comments at IMDb, but I don't ...\n",
      "18324    This was a excellent movie. I deal with a chil...\n",
      "33105    I know if I was a low budget film maker I woul...\n",
      "                               ...                        \n",
      "29636    ...had I watched it in my teenage years. This ...\n",
      "11878    Boy oh boy oh golly gee,<br /><br />The most i...\n",
      "33755    This film is replete with sentimentality, unpr...\n",
      "39168    One of the more obscure of Anthony Mann's West...\n",
      "36051    A SPECIAL DAY (Ettore Scola - Italy/Canada 197...\n",
      "Name: review, Length: 33500, dtype: object\n"
     ]
    }
   ],
   "source": [
    "print(X_train)"
   ]
  },
  {
   "cell_type": "code",
   "execution_count": 11,
   "id": "b69daf1d",
   "metadata": {},
   "outputs": [
    {
     "name": "stdout",
     "output_type": "stream",
     "text": [
      "32566    positive\n",
      "37480    negative\n",
      "9610     positive\n",
      "18324    positive\n",
      "33105    negative\n",
      "           ...   \n",
      "29636    negative\n",
      "11878    negative\n",
      "33755    negative\n",
      "39168    positive\n",
      "36051    positive\n",
      "Name: sentiment, Length: 33500, dtype: object\n"
     ]
    }
   ],
   "source": [
    "print(y_train)"
   ]
  },
  {
   "cell_type": "markdown",
   "id": "cd3a0b18",
   "metadata": {},
   "source": [
    "## Create a NLP Pipeline to clean reviews data\n",
    "### - Tokenize\n",
    "### - Remove Stopwords\n",
    "### - Perform Stemming"
   ]
  },
  {
   "cell_type": "code",
   "execution_count": 12,
   "id": "cf3f2503",
   "metadata": {},
   "outputs": [],
   "source": [
    "from nltk.corpus import stopwords\n",
    "from nltk.stem.porter import PorterStemmer\n",
    "from nltk.tokenize import RegexpTokenizer"
   ]
  },
  {
   "cell_type": "code",
   "execution_count": 13,
   "id": "76b87d80",
   "metadata": {},
   "outputs": [],
   "source": [
    "#init objects\n",
    "tokenizer = RegexpTokenizer(r'\\w+')\n",
    "en_stopwords = set(stopwords.words('english'))\n",
    "ps = PorterStemmer()"
   ]
  },
  {
   "cell_type": "code",
   "execution_count": 14,
   "id": "d3d88ef7",
   "metadata": {},
   "outputs": [],
   "source": [
    "def getStemmedReview(review):\n",
    "    review = review.lower()\n",
    "    review = review.replace('<br /><br />',' ')\n",
    "    \n",
    "    #Tokenize\n",
    "    tokens = tokenizer.tokenize(review)\n",
    "    new_tokens = [token for token in tokens if token not in en_stopwords]\n",
    "    stemmed_tokens = [ps.stem(token) for token in new_tokens]\n",
    "    \n",
    "    cleaned_review = ' '.join(stemmed_tokens)\n",
    "    return cleaned_review\n",
    "    "
   ]
  },
  {
   "cell_type": "code",
   "execution_count": 15,
   "id": "6cf55099",
   "metadata": {},
   "outputs": [],
   "source": [
    "sample_text = \"\"\" One of the other reviewers has mentioned that after watching just 1 Oz episode you'll be hooked. They are right, as this is exactly what happened with me.<br /><br />The first thing that struck me about Oz was its brutality and unflinching scenes of violence, which set in right from the word GO.\"\"\""
   ]
  },
  {
   "cell_type": "code",
   "execution_count": 16,
   "id": "57f10b82",
   "metadata": {},
   "outputs": [
    {
     "data": {
      "text/plain": [
       "'one review mention watch 1 oz episod hook right exactli happen first thing struck oz brutal unflinch scene violenc set right word go'"
      ]
     },
     "execution_count": 16,
     "metadata": {},
     "output_type": "execute_result"
    }
   ],
   "source": [
    "getStemmedReview(sample_text)"
   ]
  },
  {
   "cell_type": "code",
   "execution_count": 17,
   "id": "7fece07b",
   "metadata": {},
   "outputs": [],
   "source": [
    "x_train = [getStemmedReview(review) for review in X_train]\n",
    "x_test = [getStemmedReview(review) for review in X_test]"
   ]
  },
  {
   "cell_type": "code",
   "execution_count": 18,
   "id": "3ece5b2c",
   "metadata": {},
   "outputs": [],
   "source": [
    "#x_train"
   ]
  },
  {
   "cell_type": "code",
   "execution_count": 19,
   "id": "cd4c3ede",
   "metadata": {},
   "outputs": [
    {
     "name": "stdout",
     "output_type": "stream",
     "text": [
      "33500\n",
      "16500\n"
     ]
    }
   ],
   "source": [
    "print(len(x_train))\n",
    "print(len(x_test))"
   ]
  },
  {
   "cell_type": "markdown",
   "id": "2eef7c69",
   "metadata": {},
   "source": [
    "## Vectorization"
   ]
  },
  {
   "cell_type": "code",
   "execution_count": 20,
   "id": "42d38a45",
   "metadata": {},
   "outputs": [],
   "source": [
    "from sklearn.feature_extraction.text import CountVectorizer"
   ]
  },
  {
   "cell_type": "code",
   "execution_count": 21,
   "id": "4d2ac3e5",
   "metadata": {},
   "outputs": [],
   "source": [
    "cv = CountVectorizer(ngram_range = (1,2))\n",
    "x_vec = cv.fit_transform(x_train)"
   ]
  },
  {
   "cell_type": "code",
   "execution_count": 22,
   "id": "53f1599f",
   "metadata": {},
   "outputs": [],
   "source": [
    "#print(x_vec)"
   ]
  },
  {
   "cell_type": "code",
   "execution_count": 23,
   "id": "4dfa97b9",
   "metadata": {},
   "outputs": [
    {
     "data": {
      "text/plain": [
       "(33500, 1986399)"
      ]
     },
     "execution_count": 23,
     "metadata": {},
     "output_type": "execute_result"
    }
   ],
   "source": [
    "x_vec.shape"
   ]
  },
  {
   "cell_type": "code",
   "execution_count": 24,
   "id": "f1f05aae",
   "metadata": {},
   "outputs": [
    {
     "name": "stdout",
     "output_type": "stream",
     "text": [
      "1986399\n"
     ]
    }
   ],
   "source": [
    "print(len(cv.get_feature_names()))"
   ]
  },
  {
   "cell_type": "code",
   "execution_count": 25,
   "id": "94908d2e",
   "metadata": {},
   "outputs": [],
   "source": [
    "x_test_vec = cv.transform(x_test)"
   ]
  },
  {
   "cell_type": "code",
   "execution_count": 26,
   "id": "1191003f",
   "metadata": {},
   "outputs": [
    {
     "name": "stdout",
     "output_type": "stream",
     "text": [
      "(16500, 1986399)\n"
     ]
    }
   ],
   "source": [
    "print(x_test_vec.shape)"
   ]
  },
  {
   "cell_type": "markdown",
   "id": "fc070b4b",
   "metadata": {},
   "source": [
    "## multinomial Naive Bayes"
   ]
  },
  {
   "cell_type": "code",
   "execution_count": 27,
   "id": "f52c5c5f",
   "metadata": {},
   "outputs": [],
   "source": [
    "from sklearn.naive_bayes import MultinomialNB"
   ]
  },
  {
   "cell_type": "code",
   "execution_count": 28,
   "id": "35ee35bf",
   "metadata": {},
   "outputs": [],
   "source": [
    "mnb = MultinomialNB()"
   ]
  },
  {
   "cell_type": "code",
   "execution_count": 29,
   "id": "0e7625dc",
   "metadata": {},
   "outputs": [
    {
     "name": "stdout",
     "output_type": "stream",
     "text": [
      "MultinomialNB()\n"
     ]
    }
   ],
   "source": [
    "print(mnb)"
   ]
  },
  {
   "cell_type": "code",
   "execution_count": 30,
   "id": "bd305c8a",
   "metadata": {},
   "outputs": [
    {
     "data": {
      "text/plain": [
       "MultinomialNB()"
      ]
     },
     "execution_count": 30,
     "metadata": {},
     "output_type": "execute_result"
    }
   ],
   "source": [
    "mnb.fit(x_vec,y_train)"
   ]
  },
  {
   "cell_type": "code",
   "execution_count": 31,
   "id": "ab8ab797",
   "metadata": {},
   "outputs": [],
   "source": [
    "pred = mnb.predict(x_test_vec)"
   ]
  },
  {
   "cell_type": "code",
   "execution_count": 32,
   "id": "12ed5d26",
   "metadata": {},
   "outputs": [
    {
     "data": {
      "text/plain": [
       "array(['negative', 'negative', 'positive', ..., 'negative', 'negative',\n",
       "       'positive'], dtype='<U8')"
      ]
     },
     "execution_count": 32,
     "metadata": {},
     "output_type": "execute_result"
    }
   ],
   "source": [
    "pred"
   ]
  },
  {
   "cell_type": "code",
   "execution_count": 33,
   "id": "a7c54678",
   "metadata": {},
   "outputs": [
    {
     "data": {
      "text/plain": [
       "0.9953731343283582"
      ]
     },
     "execution_count": 33,
     "metadata": {},
     "output_type": "execute_result"
    }
   ],
   "source": [
    "mnb.score(x_vec,y_train)"
   ]
  },
  {
   "cell_type": "code",
   "execution_count": 34,
   "id": "e826d073",
   "metadata": {},
   "outputs": [
    {
     "data": {
      "text/plain": [
       "array([[1.00000000e+00, 3.94594220e-17],\n",
       "       [1.00000000e+00, 4.02967995e-25],\n",
       "       [7.12029857e-09, 9.99999993e-01],\n",
       "       ...,\n",
       "       [1.00000000e+00, 4.05825130e-62],\n",
       "       [1.00000000e+00, 5.79395905e-20],\n",
       "       [2.91666203e-21, 1.00000000e+00]])"
      ]
     },
     "execution_count": 34,
     "metadata": {},
     "output_type": "execute_result"
    }
   ],
   "source": [
    "mnb.predict_proba(x_test_vec)"
   ]
  },
  {
   "cell_type": "code",
   "execution_count": 35,
   "id": "9c2c7a77",
   "metadata": {},
   "outputs": [
    {
     "data": {
      "text/plain": [
       "0.8787272727272727"
      ]
     },
     "execution_count": 35,
     "metadata": {},
     "output_type": "execute_result"
    }
   ],
   "source": [
    "mnb.score(x_test_vec,y_test)"
   ]
  },
  {
   "cell_type": "markdown",
   "id": "20aedf0a",
   "metadata": {},
   "source": [
    "## Multivariant Bernoulli Event Model Naive Bayes"
   ]
  },
  {
   "cell_type": "code",
   "execution_count": 36,
   "id": "937c91ac",
   "metadata": {},
   "outputs": [],
   "source": [
    "from sklearn.naive_bayes import BernoulliNB"
   ]
  },
  {
   "cell_type": "code",
   "execution_count": 37,
   "id": "55436aad",
   "metadata": {},
   "outputs": [],
   "source": [
    "bnb = BernoulliNB()"
   ]
  },
  {
   "cell_type": "code",
   "execution_count": 38,
   "id": "c7410223",
   "metadata": {},
   "outputs": [
    {
     "name": "stdout",
     "output_type": "stream",
     "text": [
      "BernoulliNB()\n"
     ]
    }
   ],
   "source": [
    "print(bnb)"
   ]
  },
  {
   "cell_type": "code",
   "execution_count": 39,
   "id": "ad1bbd18",
   "metadata": {},
   "outputs": [
    {
     "data": {
      "text/plain": [
       "BernoulliNB()"
      ]
     },
     "execution_count": 39,
     "metadata": {},
     "output_type": "execute_result"
    }
   ],
   "source": [
    "bnb.fit(x_vec,y_train)"
   ]
  },
  {
   "cell_type": "code",
   "execution_count": 40,
   "id": "0411119d",
   "metadata": {},
   "outputs": [],
   "source": [
    "pred2 = bnb.predict(x_test_vec)"
   ]
  },
  {
   "cell_type": "code",
   "execution_count": 41,
   "id": "e8e7d4eb",
   "metadata": {},
   "outputs": [
    {
     "data": {
      "text/plain": [
       "array(['negative', 'negative', 'positive', ..., 'negative', 'negative',\n",
       "       'positive'], dtype='<U8')"
      ]
     },
     "execution_count": 41,
     "metadata": {},
     "output_type": "execute_result"
    }
   ],
   "source": [
    "pred2"
   ]
  },
  {
   "cell_type": "code",
   "execution_count": 42,
   "id": "dbfc7227",
   "metadata": {},
   "outputs": [
    {
     "data": {
      "text/plain": [
       "0.9936417910447761"
      ]
     },
     "execution_count": 42,
     "metadata": {},
     "output_type": "execute_result"
    }
   ],
   "source": [
    "bnb.score(x_vec,y_train)"
   ]
  },
  {
   "cell_type": "code",
   "execution_count": 43,
   "id": "2dc7d4c6",
   "metadata": {},
   "outputs": [
    {
     "data": {
      "text/plain": [
       "0.866909090909091"
      ]
     },
     "execution_count": 43,
     "metadata": {},
     "output_type": "execute_result"
    }
   ],
   "source": [
    "bnb.score(x_test_vec,y_test)"
   ]
  }
 ],
 "metadata": {
  "kernelspec": {
   "display_name": "Python 3 (ipykernel)",
   "language": "python",
   "name": "python3"
  },
  "language_info": {
   "codemirror_mode": {
    "name": "ipython",
    "version": 3
   },
   "file_extension": ".py",
   "mimetype": "text/x-python",
   "name": "python",
   "nbconvert_exporter": "python",
   "pygments_lexer": "ipython3",
   "version": "3.9.6"
  }
 },
 "nbformat": 4,
 "nbformat_minor": 5
}
